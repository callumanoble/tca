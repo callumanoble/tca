{
 "cells": [
  {
   "cell_type": "markdown",
   "id": "021787a1",
   "metadata": {},
   "source": [
    "# Analysis on predictive models for daily stock volume\n"
   ]
  },
  {
   "cell_type": "code",
   "execution_count": 1,
   "id": "4e96e684",
   "metadata": {},
   "outputs": [],
   "source": [
    "import matplotlib.pyplot as plt\n",
    "import numpy as np\n",
    "import pandas as pd\n",
    "\n",
    "\n",
    "from datetime import datetime\n",
    "\n",
    "from ipywidgets import IntProgress\n",
    "from IPython.display import Markdown as md, display, Math, Latex\n",
    "\n",
    "\n",
    "# NOTE - modify when pkg destination changed\n",
    "from models.volume.core import ADV, MDV\n",
    "\n",
    "_RUN_DATE = datetime.utcnow().date()\n",
    "_VOLUME_FILE = \"/home/cnoble/Documents/market_data/volume/snp_500_2022-08-29-20-Y.csv\"\n",
    "\n",
    "pd.set_option('display.max_columns', None)\n",
    "pd.set_option('display.max_rows', None)\n",
    "pd.set_option(\"display.max_colwidth\", None)\n",
    "\n",
    "# TODO - SPLIT DATA SETS\n"
   ]
  },
  {
   "cell_type": "markdown",
   "id": "4c4bff9d",
   "metadata": {},
   "source": [
    "## Abstract\n",
    "\n",
    "The goal of this paper is to reproduce the *ARMA daily forecasting model* presented in Algorithmic Trading Methods - Kissel and compare it's performance against the standard ADV30 measure for predicting daily volumes."
   ]
  },
  {
   "cell_type": "markdown",
   "id": "a54b2b1f-3555-4b5b-b0a0-a96a0eb9abc7",
   "metadata": {},
   "source": [
    "## Lexicon\n",
    "\n",
    "$ADV(n)$: Average Daily Volume of $n$ day rolling window\n",
    "\n",
    "$MDV(n)$: Median Daily Volume of $n$ day rolling window"
   ]
  },
  {
   "cell_type": "markdown",
   "id": "09f254f7-d22b-45e3-ab71-10efb908ff35",
   "metadata": {},
   "source": [
    "## Analysis goals\n",
    "\n",
    "1. Calculate $ADV(n)$ and $MDV(n)$ across a range of horizon hyperparameters. Evaluate predictive performance and select the best for:\n",
    "\n",
    "    a. A baseline predictor for daily volume\n",
    "    \n",
    "    b. Input for more ARMA model\n",
    "    \n",
    "2. Discuss ARMA model and input variables\n",
    "\n",
    "3. Fit and compare ARMA model to 'best' simplistic baseline from Step 1."
   ]
  },
  {
   "cell_type": "markdown",
   "id": "d3e924ba-e42e-49f9-81d3-18443de249f8",
   "metadata": {
    "tags": []
   },
   "source": [
    "## Data\n",
    "    \n",
    "### Universe\n",
    "    \n",
    "S&P 500 stocks (as of {_RUN_DATE})\n",
    "\n",
    "### Daily volumes\n",
    "    \n",
    "20 year (as of {_RUN_DATE}) look back of daily consolidated volumes obtained from the Interactive Brokers TWS API. Consolidated volume is extracted from the 'SMART' exchange provided by IB, this is effectively all volume available to the IB smart order router and is (according to IB) their best available volume measure.\n",
    "\n",
    "**Note: No trading phases are resolved and it is assumed that the daily measures include auction volume**)\n",
    "\n",
    "**Note: All data (with full window to support lagged metrics) are included**\n",
    "\n",
    "### Train/Test/Validate split\n",
    "\n",
    "80/10/10% split will be used when fitting the ARMA model. Rolling windows will be compeletely segregated with no overlap in data\n",
    "\n",
    "**TODO: how to improve / analyze shifts in market behaviour?**\n",
    "        "
   ]
  },
  {
   "cell_type": "markdown",
   "id": "b1915573-e789-4aa0-9a12-3e9f641f87b0",
   "metadata": {},
   "source": [
    "## Step 1: ADV and MDV analysis\n",
    "\n",
    "1. Calculating $ADV(n)$, $MDV(n)$ for $n \\in [1:50]$\n",
    "2. Compute percentage error for each metric and view mean and std-dev percentage error for each stock\n",
    "3. Select appropriate metric base on the error profiles\n",
    "\n",
    "**NOTE: We use standard percentage error calculation not log ratio... Log derived percentage error is only valid for small deviations and we expect volume estimate errors to be large here, >> %5 (the point at which ln(Vt/Vt-1) diverges from ((Vt - Vt-1) / Vt-1). As a result we do not make any adjustments for the effect of volume / mkt cap as discussed in the text** "
   ]
  },
  {
   "cell_type": "code",
   "execution_count": 2,
   "id": "de736e1a-814f-4aa4-b2f4-018f56dc2530",
   "metadata": {},
   "outputs": [
    {
     "data": {
      "application/vnd.jupyter.widget-view+json": {
       "model_id": "c80de701d91244c68ca701c9e17beab1",
       "version_major": 2,
       "version_minor": 0
      },
      "text/plain": [
       "IntProgress(value=0, max=49)"
      ]
     },
     "metadata": {},
     "output_type": "display_data"
    }
   ],
   "source": [
    "# load volume data\n",
    "volume = pd.read_csv(_VOLUME_FILE).set_index(\"date\")\n",
    "\n",
    "# fix volume data\n",
    "# TODO - put in data load\n",
    "volume = volume.replace(0.0, np.nan)\n",
    "\n",
    "# remove partial day\n",
    "volume = volume[volume.index != \"2022-08-29\"]\n",
    "\n",
    "max_window = 50\n",
    "\n",
    "results = list()\n",
    "f = IntProgress(min=0, max=max_window-1) # instantiate the bar\n",
    "display(f)\n",
    "\n",
    "for window in range(1, max_window):\n",
    "\n",
    "    # calculate ADV and MDV for window\n",
    "    adv = ADV(volume, window)\n",
    "    mdv = MDV(volume, window)\n",
    "\n",
    "    # calculate %ge error\n",
    "    # TODO - is ln(adv / vol) valid given large deviations?\n",
    "    # TODO - think of different way to normalize affect of volume across stocks.\n",
    "    \n",
    "    # adv_err = np.log(adv / volume)\n",
    "    # mdv_err = np.log(mdv / volume)   \n",
    "    adv_err = (adv - volume) / volume\n",
    "    mdv_err = (mdv - volume) / volume\n",
    "    \n",
    "    # calculate stock level first and second moments, then average over stocks\n",
    "    adv_mean_err = adv_err.mean().mean()\n",
    "    adv_std_err = adv_err.std().mean()\n",
    "    mdv_mean_err = mdv_err.mean().mean()\n",
    "    mdv_std_err = mdv_err.std().mean()\n",
    "    \n",
    "\n",
    "    results.append([window, adv_mean_err, adv_std_err, mdv_mean_err, mdv_std_err])\n",
    "\n",
    "    f.value += 1\n",
    "    \n",
    "err = pd.DataFrame(results, columns=[\"window\", \"adv_mu\", \"adv_sig\", \"mdv_mu\", \"mdv_sig\"])"
   ]
  },
  {
   "cell_type": "code",
   "execution_count": 3,
   "id": "cc59a76c-2dd1-4cfb-904d-890e84ac2b64",
   "metadata": {},
   "outputs": [
    {
     "data": {
      "image/png": "[encoded data removed]",
      "text/plain": [
       "<Figure size 432x288 with 1 Axes>"
      ]
     },
     "metadata": {
      "needs_background": "light"
     },
     "output_type": "display_data"
    },
    {
     "data": {
      "image/png": "[encoded data removed]",
      "text/plain": [
       "<Figure size 432x288 with 1 Axes>"
      ]
     },
     "metadata": {
      "needs_background": "light"
     },
     "output_type": "display_data"
    }
   ],
   "source": [
    "# Plot error for ADV and MDV metrics over the horizons\n",
    "\n",
    "plt.plot(err[\"window\"], err[[\"adv_mu\", \"mdv_mu\"]])\n",
    "plt.title(\"ADV / MDV error\")\n",
    "plt.xlabel(\"Horizon (days)\")\n",
    "plt.ylabel(\"Mean Percentage Error\")\n",
    "plt.legend([\"ADV\", \"MDV\"])\n",
    "plt.show()\n",
    "\n",
    "plt.plot(err[\"window\"], err[[\"adv_sig\", \"mdv_sig\"]])\n",
    "plt.title(\"ADV / MDV error std_dev\")\n",
    "plt.xlabel(\"Horizon (days)\")\n",
    "plt.ylabel(\"Std-dev Percentage Error\")\n",
    "plt.legend([\"ADV\", \"MDV\"])\n",
    "plt.show()"
   ]
  },
  {
   "cell_type": "markdown",
   "id": "007cf2e9-a441-44e9-b10a-d673ee59d439",
   "metadata": {},
   "source": [
    "## Analysis\n",
    "\n",
    "1. We can see that MDV appears to converge on around 9% mean error whereas ADV error seems to increase with horizon. Likely this is due to outliers adversely affecting ADV (and the longer horizon increases likelihood window contains an outlier).\n",
    "2. The std-dev error converges for both metrics at around 25 days. MDV converges to a lower std-dev. 25 days is an interesting value as this corresponds to just over a month of trading days...\n",
    "\n",
    "# TODO - START HERE\n",
    "\n",
    "Plot MAE, MSE, R^2 etc for each and compare\n",
    "\n",
    "This simple analysis supports use of $MDV(25)$ as a reasonable statistic for use in steps 2 & 3"
   ]
  },
  {
   "cell_type": "markdown",
   "id": "805c23ee-047c-4164-88cf-fdc2b102a5e1",
   "metadata": {},
   "source": [
    "## Step 2: ARMA model\n",
    "\n",
    "The ARMA model is defined as:\n",
    "\n",
    "$\\hat{V}_t = \\bar{V}_{t-1} . D_t + \\hat{\\beta} . e_{t-1}$\n",
    "\n",
    "Where:\n",
    "\n",
    "$\\hat{V}_t$ = forecast volume on day t\n",
    "\n",
    "$\\bar{V}_{t-1}$ = $MDV(25)$ selected base volume metric from Step 1.\n",
    "\n",
    "$D_t$ = day of week adjustment metric\n",
    "\n",
    "$e_{t-1}$ = Previous days forecast error ($V_{t-1} - \\hat{V}_{t-1}$)\n",
    "\n",
    "$\\hat{\\beta}$ = Auto-regressive sensitivity parameter - esimated by OLS regression\n",
    "\n",
    "Rationale is as follows:\n",
    "\n",
    "1. We use a stable measure of contemporary historical volume MDV(25) on which to base our estimate\n",
    "2. We believe weekly trade volume is cyclical (weekly) thus add another variable here to adjust MVD(25) on this basis\n",
    "2. We add an auto-regressive term to capture persistent excess volume across days\n",
    "\n",
    "\n",
    "### Calculating $D_T$\n",
    "\n",
    "Our goal here is to determine what (if any) cyclical relationships there are across weekdays.\n",
    "\n",
    "1. Calculate the deviation of daily trading volumes from their (lagged) weekly average across stocks\n",
    "2. Average across stocks for each day\n",
    "\n",
    "We see that there is a hump mid-week with the lowest volume day being Monday... This is in disagreement with the text but we'll proceed on this basis for the time being"
   ]
  },
  {
   "cell_type": "code",
   "execution_count": 4,
   "id": "0590f287-edf7-4a47-8188-456818254594",
   "metadata": {},
   "outputs": [],
   "source": [
    "# calculate cyclical week day volumes\n",
    "\n",
    "# TODO - make sure to use train dataset!\n",
    "\n",
    "calendar = pd.to_datetime(volume.index).isocalendar()\n",
    "week_keys = calendar.year * 100 + calendar.week\n",
    "\n",
    "date_week = volume.copy()\n",
    "date_week[\"week_key\"] = week_keys\n",
    "date_week = date_week[\"week_key\"].reset_index()\n",
    "\n",
    "week_volume = volume.copy()\n",
    "week_volume[\"week_key\"] = week_keys\n",
    "week_volume = week_volume.groupby(\"week_key\", as_index=False).mean()\n",
    "week_volume = date_week.merge(week_volume, how=\"left\", left_on=\"week_key\", right_on=\"week_key\").set_index(\"date\").drop(\"week_key\", axis=1)\n",
    "\n",
    "pct_volume = volume / week_volume\n",
    "weekday_pct_volume = pct_volume.groupby([calendar.day]).mean().mean(axis=1)"
   ]
  },
  {
   "cell_type": "code",
   "execution_count": 17,
   "id": "623e11bd-ff2b-4c63-95dd-fd0508f6d45a",
   "metadata": {},
   "outputs": [
    {
     "data": {
      "text/plain": [
       "Text(0.5, 0, 'Weekday')"
      ]
     },
     "execution_count": 17,
     "metadata": {},
     "output_type": "execute_result"
    },
    {
     "data": {
      "image/png": "[encoded data removed]",
      "text/plain": [
       "<Figure size 432x288 with 1 Axes>"
      ]
     },
     "metadata": {
      "needs_background": "light"
     },
     "output_type": "display_data"
    }
   ],
   "source": [
    "plt.bar(weekday_pct_volume.index, weekday_pct_volume.values)\n",
    "plt.ylim([0.9, 1.1])\n",
    "plt.title(\"Daily excess volume vs. week average\") \n",
    "plt.ylabel(\"Excess volume (%)\")\n",
    "plt.xlabel(\"Weekday\")"
   ]
  },
  {
   "cell_type": "code",
   "execution_count": null,
   "id": "7f328a39-5ef9-4289-adfb-e765a383137a",
   "metadata": {},
   "outputs": [],
   "source": [
    "# Fit the model\n",
    "\n",
    "# Discuss regression metrics / coeffs\n",
    "\n",
    "# Analyse regression / performance metrics vs. ADV30, MDV25 \n",
    "# Outlier investigation - further work on triple witching etc."
   ]
  },
  {
   "cell_type": "markdown",
   "id": "fda617f2",
   "metadata": {},
   "source": [
    "## Environment"
   ]
  },
  {
   "cell_type": "code",
   "execution_count": 6,
   "id": "62c1cad7",
   "metadata": {},
   "outputs": [],
   "source": [
    "text=f\"\"\"\n",
    "### UTC date:[{datetime.utcnow()}]\n",
    "### Conda environment:[POPULATE!]\n",
    "\"\"\""
   ]
  },
  {
   "cell_type": "code",
   "execution_count": 7,
   "id": "3860e5ff",
   "metadata": {},
   "outputs": [],
   "source": [
    "# TODO\n",
    "\n",
    "## 1. Analyze different date ranges"
   ]
  },
  {
   "cell_type": "code",
   "execution_count": null,
   "id": "d8811982",
   "metadata": {},
   "outputs": [],
   "source": []
  }
 ],
 "metadata": {
  "kernelspec": {
   "display_name": "Python 3 (ipykernel)",
   "language": "python",
   "name": "python3"
  },
  "language_info": {
   "codemirror_mode": {
    "name": "ipython",
    "version": 3
   },
   "file_extension": ".py",
   "mimetype": "text/x-python",
   "name": "python",
   "nbconvert_exporter": "python",
   "pygments_lexer": "ipython3",
   "version": "3.8.13"
  }
 },
 "nbformat": 4,
 "nbformat_minor": 5
}
