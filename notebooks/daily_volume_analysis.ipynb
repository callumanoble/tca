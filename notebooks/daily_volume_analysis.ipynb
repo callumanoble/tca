{
 "cells": [
  {
   "cell_type": "markdown",
   "id": "021787a1",
   "metadata": {},
   "source": [
    "# Analysis on predictive models for daily stock volume\n"
   ]
  },
  {
   "cell_type": "code",
   "execution_count": 1,
   "id": "4e96e684",
   "metadata": {},
   "outputs": [],
   "source": [
    "# setup\n",
    "import matplotlib.pyplot as plt\n",
    "import numpy as np\n",
    "import pandas as pd\n",
    "import sys\n",
    "\n",
    "from datetime import datetime, timedelta\n",
    "\n",
    "from ipywidgets import IntProgress\n",
    "from IPython.display import Markdown as md, display, Math, Latex\n",
    "from sklearn.model_selection import train_test_split\n",
    "from sklearn.linear_model import LinearRegression \n",
    "from sklearn import metrics\n",
    "\n",
    "# NOTE - modify when pkg destination changed\n",
    "from models.volume.core import ADV, MDV\n",
    "\n",
    "_RUN_DATE = datetime.utcnow().date()\n",
    "_VOLUME_FILE = \"/home/cnoble/Documents/market_data/volume/snp_500_2022-08-29-20-Y.csv\"\n",
    "_YEAR_DAYS = 365.24\n",
    "\n",
    "pd.set_option('display.max_columns', None)\n",
    "pd.set_option('display.max_rows', None)\n",
    "pd.set_option(\"display.max_colwidth\", None)\n",
    "\n",
    "# load, fix and split data\n",
    "\n",
    "volume = pd.read_csv(_VOLUME_FILE).set_index(\"date\")\n",
    "volume.index = pd.to_datetime(volume.index)\n",
    "\n",
    "# fix zero volumes\n",
    "volume = volume.replace(0.0, np.nan)\n",
    "\n",
    "# remove partial day\n",
    "volume = volume[volume.index != \"2022-08-29\"]\n",
    "\n",
    "# filter lookback\n",
    "end_date = datetime(2020, 8, 29)\n",
    "data_lookback = timedelta(days= 10 * _YEAR_DAYS)\n",
    "volume = volume[volume.index >= (end_date - data_lookback)]\n",
    "\n",
    "# train / test split\n",
    "train_volume, test_volume = train_test_split(volume, test_size=0.1, shuffle=False)"
   ]
  },
  {
   "cell_type": "markdown",
   "id": "4c4bff9d",
   "metadata": {},
   "source": [
    "## Abstract\n",
    "\n",
    "The goal of this analysis is to reproduce the *ARMA daily forecasting model* presented in Algorithmic Trading Methods - Kissel and compare it's performance against the standard ADV30 measure for predicting daily volumes."
   ]
  },
  {
   "cell_type": "markdown",
   "id": "a54b2b1f-3555-4b5b-b0a0-a96a0eb9abc7",
   "metadata": {},
   "source": [
    "## Lexicon\n",
    "\n",
    "$ADV(n)$: Average Daily Volume of $n$ day rolling window\n",
    "\n",
    "$MDV(n)$: Median Daily Volume of $n$ day rolling window"
   ]
  },
  {
   "cell_type": "markdown",
   "id": "09f254f7-d22b-45e3-ab71-10efb908ff35",
   "metadata": {},
   "source": [
    "## Analysis goals\n",
    "\n",
    "1. Calculate $ADV(n)$ and $MDV(n)$ across a range of horizon hyperparameters. Evaluate predictive performance and select the best for:\n",
    "\n",
    "    a. A baseline predictor for daily volume\n",
    "    \n",
    "    b. Input variable for ARMA model\n",
    "    \n",
    "2. Discuss ARMA model and input variables\n",
    "\n",
    "3. Fit and compare ARMA model to 'best' simplistic baseline from Step 1."
   ]
  },
  {
   "cell_type": "markdown",
   "id": "d3e924ba-e42e-49f9-81d3-18443de249f8",
   "metadata": {
    "tags": []
   },
   "source": [
    "## Data\n",
    "    \n",
    "### Universe\n",
    "    \n",
    "S&P 500 stocks (as of {_RUN_DATE})\n",
    "\n",
    "### Daily volumes\n",
    "    \n",
    "10 years (as of {_RUN_DATE}) look back of daily consolidated volumes obtained from the Interactive Brokers TWS API. Consolidated volume is extracted from the 'SMART' exchange provided by IB, this is effectively all volume available to the IB smart order router and is (according to IB) their best available volume measure.\n",
    "\n",
    "**Note: No trading phases are resolved and it is assumed that the daily measures include auction volume**)\n",
    "\n",
    "**Note: All data (with full window to support lagged metrics) are included**\n",
    "\n",
    "### Train/Test split\n",
    "\n",
    "1. 80/20% split will be used when fitting the ARMA model and evaluating test performance\n",
    "2. We do not shuffle data between splits. We expect market behaviour changes over time and want test performance to reflect the current market\n",
    "\n",
    "**TODO: Lagged variables spill over from train into test data... is this OK?**\n",
    "**TODO: how to improve / analyze shifts in market behaviour?**\n",
    "        "
   ]
  },
  {
   "cell_type": "markdown",
   "id": "b1915573-e789-4aa0-9a12-3e9f641f87b0",
   "metadata": {},
   "source": [
    "## Step 1: ADV and MDV analysis\n",
    "\n",
    "1. Calculating $ADV(n)$, $MDV(n)$ for $n \\in [1:50]$\n",
    "2. Compute percentage error for each metric and view mean and std-dev percentage error for each stock\n",
    "3. Select appropriate metric base on the error profiles\n",
    "\n",
    "**NOTE: We use standard percentage error calculation not log ratio... Log derived percentage error is only valid for small deviations and we expect volume estimate errors to be large here, >> %5 (the point at which ln(Vt/Vt-1) diverges from ((Vt - Vt-1) / Vt-1). As a result we do not make any adjustments for the effect of volume / mkt cap as discussed in the text** "
   ]
  },
  {
   "cell_type": "code",
   "execution_count": 2,
   "id": "de736e1a-814f-4aa4-b2f4-018f56dc2530",
   "metadata": {},
   "outputs": [
    {
     "data": {
      "application/vnd.jupyter.widget-view+json": {
       "model_id": "08aebb935d81430d982b708e5de08a05",
       "version_major": 2,
       "version_minor": 0
      },
      "text/plain": [
       "IntProgress(value=0, max=29)"
      ]
     },
     "metadata": {},
     "output_type": "display_data"
    }
   ],
   "source": [
    "\n",
    "max_window = 30\n",
    "\n",
    "results = list()\n",
    "f = IntProgress(min=0, max=max_window-1) # instantiate the bar\n",
    "display(f)\n",
    "\n",
    "for window in range(1, max_window):\n",
    "\n",
    "    # calculate ADV and MDV for window\n",
    "    adv = ADV(train_volume, window)\n",
    "    mdv = MDV(train_volume, window)\n",
    "\n",
    "    # calculate %ge error\n",
    "    # TODO - is ln(adv / vol) valid given large deviations?\n",
    "    # TODO - think of different way to normalize affect of volume across stocks.\n",
    "    \n",
    "    # adv_err = np.log(adv / volume)\n",
    "    # mdv_err = np.log(mdv / volume)   \n",
    "    adv_err = (adv - volume) / volume\n",
    "    mdv_err = (mdv - volume) / volume\n",
    "    \n",
    "    # calculate stock level first and second moments, then average over stocks\n",
    "    adv_mean_err = adv_err.mean().mean()\n",
    "    adv_std_err = adv_err.std().mean()\n",
    "    mdv_mean_err = mdv_err.mean().mean()\n",
    "    mdv_std_err = mdv_err.std().mean()\n",
    "    \n",
    "\n",
    "    results.append([window, adv_mean_err, adv_std_err, mdv_mean_err, mdv_std_err])\n",
    "\n",
    "    f.value += 1\n",
    "    \n",
    "err = pd.DataFrame(results, columns=[\"window\", \"adv_mu\", \"adv_sig\", \"mdv_mu\", \"mdv_sig\"])"
   ]
  },
  {
   "cell_type": "code",
   "execution_count": 3,
   "id": "cc59a76c-2dd1-4cfb-904d-890e84ac2b64",
   "metadata": {},
   "outputs": [
    {
     "data": {
      "image/png": "[encoded data removed]",
      "text/plain": [
       "<Figure size 432x288 with 1 Axes>"
      ]
     },
     "metadata": {
      "needs_background": "light"
     },
     "output_type": "display_data"
    },
    {
     "data": {
      "image/png": "[encoded data removed]",
      "text/plain": [
       "<Figure size 432x288 with 1 Axes>"
      ]
     },
     "metadata": {
      "needs_background": "light"
     },
     "output_type": "display_data"
    }
   ],
   "source": [
    "# Plot error for ADV and MDV metrics over the horizons\n",
    "\n",
    "plt.plot(err[\"window\"], err[[\"adv_mu\", \"mdv_mu\"]])\n",
    "plt.title(\"ADV / MDV error\")\n",
    "plt.xlabel(\"Horizon (days)\")\n",
    "plt.ylabel(\"Mean Percentage Error\")\n",
    "plt.legend([\"ADV\", \"MDV\"])\n",
    "plt.show()\n",
    "\n",
    "plt.plot(err[\"window\"], err[[\"adv_sig\", \"mdv_sig\"]])\n",
    "plt.title(\"ADV / MDV error std_dev\")\n",
    "plt.xlabel(\"Horizon (days)\")\n",
    "plt.ylabel(\"Std-dev Percentage Error\")\n",
    "plt.legend([\"ADV\", \"MDV\"])\n",
    "plt.show()"
   ]
  },
  {
   "cell_type": "markdown",
   "id": "007cf2e9-a441-44e9-b10a-d673ee59d439",
   "metadata": {},
   "source": [
    "## Analysis\n",
    "\n",
    "1. We can see that MDV average error appears hit a minimum between 5-15 day horizon (at ~7%) then starts to slowly diverge to converge. ADV diverges aggressively with increasing horizon, likely this is due to outliers adversely affecting ADV (longer horizon's increase likelihood window contains an outlier).\n",
    "2. The std-dev error hits it's minimum MDV at around 5 days (at ~47%). ADV std-dev error diverges more aggressively but with a similar minimum for horizon\n",
    "\n",
    "This simple analysis supports use of $MDV(5)$ as a reasonable statistic for use in steps 2 & 3"
   ]
  },
  {
   "cell_type": "markdown",
   "id": "805c23ee-047c-4164-88cf-fdc2b102a5e1",
   "metadata": {},
   "source": [
    "## Step 2: ARMA model\n",
    "\n",
    "The ARMA model is defined as:\n",
    "\n",
    "$\\hat{V}_t = \\bar{V}_{t-1} . D_t + \\hat{\\beta} . e_{t-1}$\n",
    "\n",
    "Where:\n",
    "\n",
    "$\\hat{V}_t$ = forecast volume on day t\n",
    "\n",
    "$\\bar{V}_{t-1}$ = $MDV(5)$ selected base volume metric from Step 1.\n",
    "\n",
    "$D_w$ = day of week adjustment metric\n",
    "\n",
    "$e_{t-1}$ = Previous days forecast error ($V_{t-1} - \\hat{V}_{t-1}$)\n",
    "\n",
    "$\\hat{\\beta}$ = Auto-regressive sensitivity parameter - esimated by OLS regression\n",
    "\n",
    "Rationale is as follows:\n",
    "\n",
    "1. We use a stable measure of contemporary historical volume $MDV(5)$ on which to base our estimate\n",
    "2. We believe weekly trade volume is cyclical (weekly) thus add another variable here to adjust $MDV(5)$ on this basis\n",
    "2. We add an auto-regressive term to capture persistent excess volume across days\n",
    "\n",
    "\n",
    "### Calculating $D_w$\n",
    "\n",
    "Our goal here is to determine what (if any) cyclical relationships there are across weekdays.\n",
    "\n",
    "1. Calculate the deviation of daily trading volumes from their (lagged) weekly average across stocks\n",
    "2. Average across stocks for each day\n",
    "\n",
    "We see that there is a hump mid-week with the lowest volume day being Monday. This profile reflects the comments in the text discussing the dip in volume on Friday (one that was not present further back in time)."
   ]
  },
  {
   "cell_type": "code",
   "execution_count": 4,
   "id": "0590f287-edf7-4a47-8188-456818254594",
   "metadata": {},
   "outputs": [],
   "source": [
    "# calculate cyclical week day volumes (use training set)\n",
    "# TODO - could use full data set here?\n",
    "\n",
    "calendar = pd.to_datetime(train_volume.index).isocalendar()\n",
    "week_keys = calendar.year * 100 + calendar.week\n",
    "\n",
    "date_week = train_volume.copy()\n",
    "date_week[\"week_key\"] = week_keys\n",
    "date_week = date_week[\"week_key\"].reset_index()\n",
    "\n",
    "week_volume = train_volume.copy()\n",
    "week_volume[\"week_key\"] = week_keys\n",
    "week_volume = week_volume.groupby(\"week_key\", as_index=False).mean()\n",
    "week_volume = date_week.merge(week_volume, how=\"left\", left_on=\"week_key\", right_on=\"week_key\").set_index(\"date\").drop(\"week_key\", axis=1)\n",
    "\n",
    "pct_volume = train_volume / week_volume\n",
    "weekday_pct_volume = pct_volume.groupby([calendar.day]).mean().mean(axis=1)"
   ]
  },
  {
   "cell_type": "code",
   "execution_count": 5,
   "id": "623e11bd-ff2b-4c63-95dd-fd0508f6d45a",
   "metadata": {},
   "outputs": [
    {
     "data": {
      "image/png": "[encoded data removed]",
      "text/plain": [
       "<Figure size 432x288 with 1 Axes>"
      ]
     },
     "metadata": {
      "needs_background": "light"
     },
     "output_type": "display_data"
    }
   ],
   "source": [
    "plt.bar(weekday_pct_volume.index, weekday_pct_volume.values)\n",
    "plt.ylim([0.9, 1.1])\n",
    "plt.title(\"Daily excess volume vs. week average\") \n",
    "plt.ylabel(\"Excess volume (%)\")\n",
    "plt.xlabel(\"Weekday\")\n",
    "plt.show()"
   ]
  },
  {
   "cell_type": "markdown",
   "id": "d2a6931c-c194-4670-94ea-4aad54a21927",
   "metadata": {},
   "source": [
    "## Fit the ARMA model\n",
    "\n",
    "Our objective is to model an auto-regressive term to improve predictive power on $MDV(5)$ \n",
    "<!-- \n",
    "$e_t = \\alpha + \\beta . e_{t-1}$\n",
    "\n",
    "where\n",
    "\n",
    "$e_t = \\hat{V}_t - \\bar{V}_{t-1} . D_w$ -->\n",
    "\n",
    "First we look at the distribution of errors ($e_t = \\hat{V}_t - MDV_t(5) . D_w$)\n",
    "\n",
    "Note: $MDV_t(5)$ covers the rolling window for the 5 days preceeding $t$"
   ]
  },
  {
   "cell_type": "markdown",
   "id": "f88a2581-0f9a-4a80-a575-ba8b95d6ab0f",
   "metadata": {},
   "source": [
    "We can see that there are some extreme error outliers at the upper end of the spectrum"
   ]
  },
  {
   "cell_type": "code",
   "execution_count": 28,
   "id": "841afb5d-b766-4ed6-8f4c-f0a4e06400e8",
   "metadata": {},
   "outputs": [],
   "source": [
    "def adj_mdv(vol: pd.DataFrame, wd_pct_volume: pd.Series) -> pd.DataFrame():\n",
    "    \"\"\"\n",
    "    Prepare adjusted MDV\n",
    "    \"\"\"\n",
    "    mdv_5 = MDV(vol, 5)\n",
    "    weekdays = pd.DataFrame(index=mdv_5.index, data={\"weekday\":mdv_5.index.isocalendar().day})\n",
    "    mdv_5 = mdv_5.join(weekdays.astype(int))\n",
    "    mdv_5[\"weekday\"] = mdv_5[\"weekday\"].replace(wd_pct_volume)\n",
    "    mdv_5 = mdv_5.rename(columns={\"weekday\": \"D_w\"})\n",
    "    adj_mdv_5 = mdv_5.multiply(mdv_5[\"D_w\"], axis=0).drop(\"D_w\", axis=1)\n",
    "    return adj_mdv_5"
   ]
  },
  {
   "cell_type": "code",
   "execution_count": 60,
   "id": "6490b614-f471-4619-9433-1503a2424497",
   "metadata": {},
   "outputs": [],
   "source": [
    "# calculate errors\n",
    "train_adj_mdv_5 = adj_mdv(train_volume, weekday_pct_volume)\n",
    "train_errs = (train_volume - train_adj_mdv_5) / train_adj_mdv_5\n",
    "train_errs_lag = train_errs.shift()\n",
    "\n",
    "train_errs = train_errs.to_numpy().flatten()\n",
    "train_errs_lag = train_errs_lag.to_numpy().flatten()\n",
    "train_mask = ~(np.isnan(train_errs) | np.isnan(train_errs_lag))\n",
    "train_errs = train_errs[train_mask]\n",
    "train_errs_lag = train_errs_lag[train_mask]\n",
    "train_err_df = pd.DataFrame(data={\"e_t\": train_errs, \"e_t-1\": train_errs_lag})"
   ]
  },
  {
   "cell_type": "code",
   "execution_count": 70,
   "id": "ed090f80-9183-4197-b756-34bae4dc6e6b",
   "metadata": {},
   "outputs": [
    {
     "name": "stdout",
     "output_type": "stream",
     "text": [
      "e_t descriptive statistics\n"
     ]
    },
    {
     "data": {
      "text/plain": [
       "count    1246560.00\n",
       "mean           0.13\n",
       "std            7.95\n",
       "min           -0.98\n",
       "25%           -0.22\n",
       "50%           -0.01\n",
       "75%            0.28\n",
       "max         8610.81\n",
       "Name: e_t, dtype: float64"
      ]
     },
     "metadata": {},
     "output_type": "display_data"
    },
    {
     "data": {
      "image/png": "[encoded data removed]",
      "text/plain": [
       "<Figure size 432x288 with 1 Axes>"
      ]
     },
     "metadata": {
      "needs_background": "light"
     },
     "output_type": "display_data"
    },
    {
     "data": {
      "text/html": [
       "<div>\n",
       "<style scoped>\n",
       "    .dataframe tbody tr th:only-of-type {\n",
       "        vertical-align: middle;\n",
       "    }\n",
       "\n",
       "    .dataframe tbody tr th {\n",
       "        vertical-align: top;\n",
       "    }\n",
       "\n",
       "    .dataframe thead th {\n",
       "        text-align: right;\n",
       "    }\n",
       "</style>\n",
       "<table border=\"1\" class=\"dataframe\">\n",
       "  <thead>\n",
       "    <tr style=\"text-align: right;\">\n",
       "      <th></th>\n",
       "      <th>percentile</th>\n",
       "      <th>value</th>\n",
       "    </tr>\n",
       "  </thead>\n",
       "  <tbody>\n",
       "    <tr>\n",
       "      <th>0</th>\n",
       "      <td>95.0</td>\n",
       "      <td>1.046620</td>\n",
       "    </tr>\n",
       "    <tr>\n",
       "      <th>1</th>\n",
       "      <td>95.5</td>\n",
       "      <td>1.109580</td>\n",
       "    </tr>\n",
       "    <tr>\n",
       "      <th>2</th>\n",
       "      <td>96.0</td>\n",
       "      <td>1.182788</td>\n",
       "    </tr>\n",
       "    <tr>\n",
       "      <th>3</th>\n",
       "      <td>96.5</td>\n",
       "      <td>1.270396</td>\n",
       "    </tr>\n",
       "    <tr>\n",
       "      <th>4</th>\n",
       "      <td>97.0</td>\n",
       "      <td>1.374293</td>\n",
       "    </tr>\n",
       "    <tr>\n",
       "      <th>5</th>\n",
       "      <td>97.5</td>\n",
       "      <td>1.509875</td>\n",
       "    </tr>\n",
       "    <tr>\n",
       "      <th>6</th>\n",
       "      <td>98.0</td>\n",
       "      <td>1.688429</td>\n",
       "    </tr>\n",
       "    <tr>\n",
       "      <th>7</th>\n",
       "      <td>98.5</td>\n",
       "      <td>1.938417</td>\n",
       "    </tr>\n",
       "    <tr>\n",
       "      <th>8</th>\n",
       "      <td>99.0</td>\n",
       "      <td>2.359154</td>\n",
       "    </tr>\n",
       "    <tr>\n",
       "      <th>9</th>\n",
       "      <td>99.5</td>\n",
       "      <td>3.238972</td>\n",
       "    </tr>\n",
       "    <tr>\n",
       "      <th>10</th>\n",
       "      <td>100.0</td>\n",
       "      <td>8610.812848</td>\n",
       "    </tr>\n",
       "  </tbody>\n",
       "</table>\n",
       "</div>"
      ],
      "text/plain": [
       "    percentile        value\n",
       "0         95.0     1.046620\n",
       "1         95.5     1.109580\n",
       "2         96.0     1.182788\n",
       "3         96.5     1.270396\n",
       "4         97.0     1.374293\n",
       "5         97.5     1.509875\n",
       "6         98.0     1.688429\n",
       "7         98.5     1.938417\n",
       "8         99.0     2.359154\n",
       "9         99.5     3.238972\n",
       "10       100.0  8610.812848"
      ]
     },
     "metadata": {},
     "output_type": "display_data"
    },
    {
     "data": {
      "image/png": "[encoded data removed]",
      "text/plain": [
       "<Figure size 432x288 with 1 Axes>"
      ]
     },
     "metadata": {
      "needs_background": "light"
     },
     "output_type": "display_data"
    }
   ],
   "source": [
    "print(\"e_t descriptive statistics\")\n",
    "display(train_err_df[\"e_t\"].describe().round(2))\n",
    "\n",
    "plt.hist(train_errs, bins=50, log=True)\n",
    "plt.title(\"Histogram of e_t\")\n",
    "plt.show()\n",
    "\n",
    "percentile = np.arange(0.95, 1.0005, 0.005)\n",
    "percentile_df = pd.DataFrame(data={\"percentile\": percentile * 100, \"value\": np.quantile(train_errs, percentile)})\n",
    "\n",
    "display(percentile_df)\n",
    "\n",
    "top_percentile = percentile_df[percentile_df[\"percentile\"] == 99.5][\"value\"].values[0]\n",
    "train_errs_clipped_df = train_err_df[train_err_df[\"e_t\"] <= top_percentile]\n",
    "\n",
    "plt.hist(train_errs_clipped_df[\"e_t\"], bins=50, log=False)\n",
    "plt.title(\"Histogram of e_t (clipped at 99.5% percentile)\")\n",
    "plt.show()\n"
   ]
  },
  {
   "cell_type": "code",
   "execution_count": null,
   "id": "42a7a2cc-464b-4a56-83f8-dbd026c4c3e0",
   "metadata": {},
   "outputs": [],
   "source": []
  },
  {
   "cell_type": "code",
   "execution_count": 18,
   "id": "9cf2bff4-baa2-40cb-bc19-e97c753379eb",
   "metadata": {},
   "outputs": [
    {
     "name": "stdout",
     "output_type": "stream",
     "text": [
      "(1246560,)\n",
      "(1246560,)\n"
     ]
    }
   ],
   "source": [
    "print(train_errs.shape)\n",
    "print(train_errs_lag.shape)"
   ]
  },
  {
   "cell_type": "code",
   "execution_count": 20,
   "id": "8466086e-4a15-4dc4-b135-bf7b11cbab7c",
   "metadata": {},
   "outputs": [
    {
     "data": {
      "image/png": "[encoded data removed]",
      "text/plain": [
       "<Figure size 432x288 with 1 Axes>"
      ]
     },
     "metadata": {
      "needs_background": "light"
     },
     "output_type": "display_data"
    },
    {
     "name": "stderr",
     "output_type": "stream",
     "text": [
      "/tmp/ipykernel_219204/3678063361.py:16: RuntimeWarning: invalid value encountered in log\n",
      "  plt.scatter(np.log(train_errs), np.log(train_errs_lag))\n"
     ]
    },
    {
     "data": {
      "image/png": "[encoded data removed]",
      "text/plain": [
       "<Figure size 432x288 with 1 Axes>"
      ]
     },
     "metadata": {
      "needs_background": "light"
     },
     "output_type": "display_data"
    }
   ],
   "source": [
    "# fig, (ax1, ax2) = plt.subplots(1, 2, figsize=(12, 6))\n",
    "\n",
    "# ax1.scatter(train_errs, train_errs_lag)\n",
    "# ax1.set_title(\"Prediction scatter\")\n",
    "# ax1.set_ylabel(\"e_t-1\")\n",
    "# ax1.set_xlabel(\"e_t\")\n",
    "\n",
    "# ax2.scatter(np.log(train_errs), np.log(train_errs_lag))\n",
    "# ax2.set_title(\"Log prediction scatter\")\n",
    "# ax2.set_ylabel(\"ln(MDV_t-1(5) * D_w)\")\n",
    "# ax2.set_xlabel(\"ln(V_t)\")\n",
    "\n",
    "plt.hist(train_errs, bins=50, log=True)\n",
    "plt.show()\n",
    "\n",
    "plt.scatter(np.log(train_errs), np.log(train_errs_lag))\n",
    "plt.title(\"Prediction scatter\")\n",
    "plt.xlabel(\"e_t\")\n",
    "plt.ylabel(\"e_t-1\")\n",
    "# plt.xscale(\"log\")\n",
    "# plt.yscale(\"log\")\n",
    "\n",
    "plt.show()"
   ]
  },
  {
   "cell_type": "code",
   "execution_count": null,
   "id": "44d0f560-2a25-43bc-9e24-ec172b577d71",
   "metadata": {},
   "outputs": [],
   "source": [
    "# fit the model\n",
    "\n",
    "# train_adj_mdv_5_vals = train_adj_mdv_5.to_numpy().flatten()\n",
    "# train_volume_vals = train_volume.to_numpy().flatten()\n",
    "\n",
    "# nan_mask = ~(np.isnan(train_adj_mdv_5_vals) | np.isnan(train_volume_vals))\n",
    "\n",
    "# log_train_adj_mdv_5_vals = np.log(train_adj_mdv_5_vals[nan_mask].reshape(-1, 1))\n",
    "# log_train_volume_vals = np.log(train_volume_vals[nan_mask].reshape(-1, 1))\n",
    "\n",
    "# model = LinearRegression()\n",
    "# model.fit(log_train_adj_mdv_5_vals, log_train_volume_vals)\n",
    "# train_r_2 = model.score(log_train_adj_mdv_5_vals, log_train_volume_vals)\n",
    "\n",
    "# display(md(f\"We have high in sample coefficient of determiniation $R^2$ = {r_2}\"))\n",
    "\n",
    "train_err_vals = train_errs.to_numpy().flatten()\n",
    "train_err_lag_vals = train_errs_lag.to_numpy().flatten()\n",
    "\n",
    "nan_mask = ~(np.isnan(train_err_vals) | np.isnan(train_err_lag_vals))\n",
    "\n",
    "train_err_vals = train_err_vals[nan_mask].reshape(-1, 1)\n",
    "train_err_lag_vals = train_err_lag_vals[nan_mask].reshape(-1, 1)\n",
    "\n",
    "# train_err_vals = np.log(train_err_vals)\n",
    "# train_err_lag_vals = np.log(train_err_lag_vals)\n",
    "\n",
    "model = LinearRegression()\n",
    "model.fit(train_err_lag_vals, train_err_vals)\n",
    "train_r_2 = model.score(train_err_lag_vals, train_err_vals)\n",
    "\n",
    "alpha = model.intercept_[0]\n",
    "beta = model.coef_[0][0]\n",
    "\n",
    "display(md(f\"We have high in sample coefficient of determiniation $R^2$ = {r_2}, alpha={alpha}, beta={beta}\"))\n",
    "\n",
    "\n",
    "plt.scatter(train_errs, train_errs_lag)\n",
    "plt.title(\"Prediction scatter\")\n",
    "plt.ylabel(\"e_t-1\")\n",
    "plt.xlabel(\"e_t\")\n",
    "plt.yscale(\"log\")\n",
    "plt.xscale(\"log\")\n",
    "pred_x = [train_errs.min().min(), train_errs.max().max()]\n",
    "print(pred_x)\n",
    "\n",
    "pred_y = [alpha + x * beta for x in pred_x]\n",
    "\n",
    "print(pred_y)\n",
    "plt.plot(pred_x, pred_y, '-r', label='y=2x+1')\n",
    "\n",
    "# ax2.scatter(np.log(train_errs), np.log(train_errs_lag))\n",
    "# ax2.set_title(\"Log prediction scatter\")\n",
    "# ax2.set_ylabel(\"ln(MDV_t-1(5) * D_w)\")\n",
    "# ax2.set_xlabel(\"ln(V_t)\")\n",
    "\n",
    "plt.show()\n"
   ]
  },
  {
   "cell_type": "markdown",
   "id": "d1e3f652-61b6-45e8-89ac-3aaeed566bce",
   "metadata": {},
   "source": [
    "## Out of sample "
   ]
  },
  {
   "cell_type": "code",
   "execution_count": null,
   "id": "e5c318f7-2559-4953-b205-9f0c631b10a9",
   "metadata": {},
   "outputs": [],
   "source": [
    "test_adj_mdv_5 = adj_mdv(test_volume, weekday_pct_volume)\n",
    "test_adj_mdv_5_vals = test_adj_mdv_5.to_numpy().flatten()\n",
    "test_volume_vals = test_volume.to_numpy().flatten()\n",
    "\n",
    "nan_mask = ~(np.isnan(test_adj_mdv_5_vals) | np.isnan(test_volume_vals))\n",
    "\n",
    "test_adj_mdv_5_vals = test_adj_mdv_5_vals[nan_mask]\n",
    "test_volume_vals = test_volume_vals[nan_mask]\n",
    "\n",
    "log_err_pred = model.predict(np.log(test_adj_mdv_5_vals.reshape(-1, 1))).flatten()\n",
    "\n",
    "y_pred = test_adj_mdv_5_vals + np.exp(log_err_pred)\n",
    "y_true = test_volume_vals\n",
    "\n",
    "pct_err = (y_pred - y_true) / y_true\n",
    "\n",
    "plt.hist(np.log(pct_err), bins=50, log=True)\n",
    "plt.show()\n",
    "\n",
    "# TODO - overflow on some predictions... FIX\n",
    "\n",
    "\n",
    "\n",
    "plt.scatter(y_true, y_pred)\n",
    "plt.title(\"Prediction scatter\")\n",
    "plt.ylabel(\"MDV_t-1(5) * D_w + pred_e_t\")\n",
    "plt.xlabel(\"V_t\")\n",
    "\n",
    "x = np.logspace(0,max(test_volume_vals),10)\n",
    "y = model.coef_*x + model.intercept_\n",
    "plt.plot(x, y, '-r', label='fit')\n",
    "\n",
    "\n",
    "plt.show()\n",
    "\n",
    "# analysis stats\n",
    "# Regression metrics\n",
    "explained_variance=metrics.explained_variance_score(y_true, y_pred)\n",
    "mean_absolute_error=metrics.mean_absolute_error(y_true, y_pred) \n",
    "mse=metrics.mean_squared_error(y_true, y_pred) \n",
    "mean_squared_log_error=metrics.mean_squared_log_error(y_true, y_pred)\n",
    "median_absolute_error=metrics.median_absolute_error(y_true, y_pred)\n",
    "r2=metrics.r2_score(y_true, y_pred)\n",
    "\n",
    "print('explained_variance: ', round(explained_variance,4))    \n",
    "print('mean_squared_log_error: ', round(mean_squared_log_error,4))\n",
    "print('r2: ', round(r2,4))\n",
    "print('MAE: ', round(mean_absolute_error,4))\n",
    "print('MSE: ', round(mse,4))\n",
    "print('RMSE: ', round(np.sqrt(mse),4))\n",
    "\n"
   ]
  },
  {
   "cell_type": "markdown",
   "id": "a67a5c4e-219f-4d60-827b-37d71524fdea",
   "metadata": {},
   "source": [
    "# Discuss regression metrics / coeffs\n",
    "\n",
    "# Analyse regression / performance metrics vs. ADV30, MDV25 \n",
    "# Outlier investigation - further work on triple witching etc."
   ]
  },
  {
   "cell_type": "markdown",
   "id": "fda617f2",
   "metadata": {},
   "source": [
    "## Environment"
   ]
  },
  {
   "cell_type": "code",
   "execution_count": null,
   "id": "62c1cad7",
   "metadata": {},
   "outputs": [],
   "source": [
    "text=f\"\"\"\n",
    "### UTC date:[{datetime.utcnow()}]\n",
    "### Conda environment:[POPULATE!]\n",
    "\"\"\""
   ]
  },
  {
   "cell_type": "code",
   "execution_count": null,
   "id": "3860e5ff",
   "metadata": {},
   "outputs": [],
   "source": [
    "# TODO\n",
    "\n",
    "## 1. Analyze different date ranges"
   ]
  },
  {
   "cell_type": "code",
   "execution_count": null,
   "id": "d8811982",
   "metadata": {},
   "outputs": [],
   "source": []
  }
 ],
 "metadata": {
  "kernelspec": {
   "display_name": "Python 3 (ipykernel)",
   "language": "python",
   "name": "python3"
  },
  "language_info": {
   "codemirror_mode": {
    "name": "ipython",
    "version": 3
   },
   "file_extension": ".py",
   "mimetype": "text/x-python",
   "name": "python",
   "nbconvert_exporter": "python",
   "pygments_lexer": "ipython3",
   "version": "3.8.13"
  }
 },
 "nbformat": 4,
 "nbformat_minor": 5
}
