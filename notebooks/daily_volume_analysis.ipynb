{
 "cells": [
  {
   "cell_type": "markdown",
   "id": "021787a1",
   "metadata": {},
   "source": [
    "# Analysis on predictive models for daily stock volume\n"
   ]
  },
  {
   "cell_type": "code",
   "execution_count": null,
   "id": "11a665dd-309c-482d-b138-e3eef7d77446",
   "metadata": {},
   "outputs": [],
   "source": [
    "TODO - CAN TIDY THIS UP AND MAKE NOTES CONSISTENT\n",
    "\n",
    "SUMMARY - ABLE TO FIT ARMA MODEL WHERE AR(1) TERM IS PERCENTAGE ERROR - PERFORMS BETTER THAN ADV30 AND MDV5"
   ]
  },
  {
   "cell_type": "code",
   "execution_count": 210,
   "id": "4e96e684",
   "metadata": {},
   "outputs": [],
   "source": [
    "# setup\n",
    "import collections\n",
    "import matplotlib.pyplot as plt\n",
    "import numpy as np\n",
    "import pandas as pd\n",
    "import sys\n",
    "\n",
    "from datetime import datetime, timedelta\n",
    "\n",
    "from ipywidgets import IntProgress\n",
    "from IPython.display import Markdown as md, display, Math, Latex\n",
    "from scipy.stats.mstats import winsorize\n",
    "from sklearn.model_selection import train_test_split\n",
    "from sklearn.linear_model import LinearRegression \n",
    "from sklearn import metrics\n",
    "\n",
    "# NOTE - modify when pkg destination changed\n",
    "from models.volume.core import ADV, MDV\n",
    "\n",
    "_RUN_DATE = datetime.utcnow().date()\n",
    "_VOLUME_FILE = \"/home/cnoble/Documents/market_data/volume/snp_500_2022-08-29-20-Y.csv\"\n",
    "_YEAR_DAYS = 365.24\n",
    "\n",
    "pd.set_option('display.max_columns', None)\n",
    "pd.set_option('display.max_rows', None)\n",
    "pd.set_option(\"display.max_colwidth\", None)\n",
    "\n",
    "# load, fix and split data\n",
    "\n",
    "volume = pd.read_csv(_VOLUME_FILE).set_index(\"date\")\n",
    "volume.index = pd.to_datetime(volume.index)\n",
    "\n",
    "# fix zero volumes\n",
    "volume = volume.replace(0.0, np.nan)\n",
    "\n",
    "# remove partial day\n",
    "volume = volume[volume.index != \"2022-08-29\"]\n",
    "\n",
    "# filter lookback\n",
    "end_date = datetime(2020, 8, 29)\n",
    "data_lookback = timedelta(days= 10 * _YEAR_DAYS)\n",
    "volume = volume[volume.index >= (end_date - data_lookback)]\n",
    "\n",
    "# train / test split\n",
    "train_volume, test_volume = train_test_split(volume, test_size=0.1, shuffle=False)"
   ]
  },
  {
   "cell_type": "markdown",
   "id": "4c4bff9d",
   "metadata": {},
   "source": [
    "## Abstract\n",
    "\n",
    "The goal of this analysis is to reproduce the *ARMA daily forecasting model* presented in Algorithmic Trading Methods - Kissel and compare it's performance against the standard ADV30 measure for predicting daily volumes."
   ]
  },
  {
   "cell_type": "markdown",
   "id": "a54b2b1f-3555-4b5b-b0a0-a96a0eb9abc7",
   "metadata": {},
   "source": [
    "## Lexicon\n",
    "\n",
    "$ADV(n)$: Average Daily Volume of $n$ day rolling window\n",
    "\n",
    "$MDV(n)$: Median Daily Volume of $n$ day rolling window"
   ]
  },
  {
   "cell_type": "markdown",
   "id": "09f254f7-d22b-45e3-ab71-10efb908ff35",
   "metadata": {},
   "source": [
    "## Analysis goals\n",
    "\n",
    "1. Calculate $ADV(n)$ and $MDV(n)$ across a range of horizon hyperparameters. Evaluate predictive performance and select the best for:\n",
    "\n",
    "    a. A baseline predictor for daily volume\n",
    "    \n",
    "    b. Input variable for ARMA model\n",
    "    \n",
    "2. Discuss ARMA model and input variables\n",
    "\n",
    "3. Fit and compare ARMA model to 'best' simplistic baseline from Step 1."
   ]
  },
  {
   "cell_type": "markdown",
   "id": "d3e924ba-e42e-49f9-81d3-18443de249f8",
   "metadata": {
    "tags": []
   },
   "source": [
    "## Data\n",
    "    \n",
    "### Universe\n",
    "    \n",
    "S&P 500 stocks (as of {_RUN_DATE})\n",
    "\n",
    "### Daily volumes\n",
    "    \n",
    "10 years (as of {_RUN_DATE}) look back of daily consolidated volumes obtained from the Interactive Brokers TWS API. Consolidated volume is extracted from the 'SMART' exchange provided by IB, this is effectively all volume available to the IB smart order router and is (according to IB) their best available volume measure.\n",
    "\n",
    "**Note: No trading phases are resolved and it is assumed that the daily measures include auction volume**)\n",
    "\n",
    "**Note: All data (with full window to support lagged metrics) are included**\n",
    "\n",
    "### Train/Test split\n",
    "\n",
    "1. 80/20% split will be used when fitting the ARMA model and evaluating test performance\n",
    "2. We do not shuffle data between splits. We expect market behaviour changes over time and want test performance to reflect the current market\n",
    "\n",
    "**TODO: Lagged variables spill over from train into test data... is this OK?**\n",
    "**TODO: how to improve / analyze shifts in market behaviour?**\n",
    "        "
   ]
  },
  {
   "cell_type": "markdown",
   "id": "b1915573-e789-4aa0-9a12-3e9f641f87b0",
   "metadata": {},
   "source": [
    "## Step 1: ADV and MDV analysis\n",
    "\n",
    "1. Calculating $ADV(n)$, $MDV(n)$ for $n \\in [1:50]$\n",
    "2. Compute percentage error for each metric and view mean and std-dev percentage error for each stock\n",
    "3. Select appropriate metric base on the error profiles\n",
    "\n",
    "**NOTE: We use standard percentage error calculation not log ratio... Log derived percentage error is only valid for small deviations and we expect volume estimate errors to be large here, >> %5 (the point at which ln(Vt/Vt-1) diverges from ((Vt - Vt-1) / Vt-1). As a result we do not make any adjustments for the effect of volume / mkt cap as discussed in the text** "
   ]
  },
  {
   "cell_type": "code",
   "execution_count": 107,
   "id": "de736e1a-814f-4aa4-b2f4-018f56dc2530",
   "metadata": {},
   "outputs": [
    {
     "data": {
      "application/vnd.jupyter.widget-view+json": {
       "model_id": "e89233f8721e477b80d29c5efe44b048",
       "version_major": 2,
       "version_minor": 0
      },
      "text/plain": [
       "IntProgress(value=0, max=29)"
      ]
     },
     "metadata": {},
     "output_type": "display_data"
    }
   ],
   "source": [
    "\n",
    "max_window = 30\n",
    "\n",
    "results = list()\n",
    "f = IntProgress(min=0, max=max_window-1) # instantiate the bar\n",
    "display(f)\n",
    "\n",
    "for window in range(1, max_window):\n",
    "\n",
    "    # calculate ADV and MDV for window\n",
    "    adv = ADV(train_volume, window)\n",
    "    mdv = MDV(train_volume, window)\n",
    "\n",
    "    # calculate %ge error\n",
    "    # TODO - is ln(adv / vol) valid given large deviations?\n",
    "    # TODO - think of different way to normalize affect of volume across stocks.\n",
    "    \n",
    "    # adv_err = np.log(adv / volume)\n",
    "    # mdv_err = np.log(mdv / volume)   \n",
    "    adv_err = (adv - volume) / volume\n",
    "    mdv_err = (mdv - volume) / volume\n",
    "    \n",
    "    # calculate stock level first and second moments, then average over stocks\n",
    "    adv_mean_err = adv_err.mean().mean()\n",
    "    adv_std_err = adv_err.std().mean()\n",
    "    mdv_mean_err = mdv_err.mean().mean()\n",
    "    mdv_std_err = mdv_err.std().mean()\n",
    "    \n",
    "\n",
    "    results.append([window, adv_mean_err, adv_std_err, mdv_mean_err, mdv_std_err])\n",
    "\n",
    "    f.value += 1\n",
    "    \n",
    "err = pd.DataFrame(results, columns=[\"window\", \"adv_mu\", \"adv_sig\", \"mdv_mu\", \"mdv_sig\"])"
   ]
  },
  {
   "cell_type": "code",
   "execution_count": 108,
   "id": "cc59a76c-2dd1-4cfb-904d-890e84ac2b64",
   "metadata": {},
   "outputs": [
    {
     "data": {
      "image/png": "[encoded data removed]",
      "text/plain": [
       "<Figure size 432x288 with 1 Axes>"
      ]
     },
     "metadata": {
      "needs_background": "light"
     },
     "output_type": "display_data"
    },
    {
     "data": {
      "image/png": "[encoded data removed]",
      "text/plain": [
       "<Figure size 432x288 with 1 Axes>"
      ]
     },
     "metadata": {
      "needs_background": "light"
     },
     "output_type": "display_data"
    }
   ],
   "source": [
    "# Plot error for ADV and MDV metrics over the horizons\n",
    "\n",
    "plt.plot(err[\"window\"], err[[\"adv_mu\", \"mdv_mu\"]])\n",
    "plt.title(\"ADV / MDV error\")\n",
    "plt.xlabel(\"Horizon (days)\")\n",
    "plt.ylabel(\"Mean Percentage Error\")\n",
    "plt.legend([\"ADV\", \"MDV\"])\n",
    "plt.show()\n",
    "\n",
    "plt.plot(err[\"window\"], err[[\"adv_sig\", \"mdv_sig\"]])\n",
    "plt.title(\"ADV / MDV error std_dev\")\n",
    "plt.xlabel(\"Horizon (days)\")\n",
    "plt.ylabel(\"Std-dev Percentage Error\")\n",
    "plt.legend([\"ADV\", \"MDV\"])\n",
    "plt.show()"
   ]
  },
  {
   "cell_type": "markdown",
   "id": "007cf2e9-a441-44e9-b10a-d673ee59d439",
   "metadata": {},
   "source": [
    "## Analysis\n",
    "\n",
    "1. We can see that MDV average error appears hit a minimum between 5-15 day horizon (at ~7%) then starts to slowly diverge to converge. ADV diverges aggressively with increasing horizon, likely this is due to outliers adversely affecting ADV (longer horizon's increase likelihood window contains an outlier).\n",
    "2. The std-dev error hits it's minimum MDV at around 5 days (at ~47%). ADV std-dev error diverges more aggressively but with a similar minimum for horizon\n",
    "\n",
    "This simple analysis supports use of $MDV(5)$ as a reasonable statistic for use in steps 2 & 3"
   ]
  },
  {
   "cell_type": "markdown",
   "id": "805c23ee-047c-4164-88cf-fdc2b102a5e1",
   "metadata": {},
   "source": [
    "## Step 2: ARMA model\n",
    "\n",
    "The ARMA model is defined as:\n",
    "\n",
    "$\\hat{V}_t = \\bar{V}_{t-1} . D_t + \\hat{\\beta} . e_{t-1}$\n",
    "\n",
    "Where:\n",
    "\n",
    "$\\hat{V}_t$ = forecast volume on day t\n",
    "\n",
    "$\\bar{V}_{t-1}$ = $MDV(5)$ selected base volume metric from Step 1.\n",
    "\n",
    "$D_w$ = day of week adjustment metric\n",
    "\n",
    "$e_{t-1}$ = Previous days forecast error ($V_{t-1} - \\hat{V}_{t-1}$)\n",
    "\n",
    "$\\hat{\\beta}$ = Auto-regressive sensitivity parameter - esimated by OLS regression\n",
    "\n",
    "Rationale is as follows:\n",
    "\n",
    "1. We use a stable measure of contemporary historical volume $MDV(5)$ on which to base our estimate\n",
    "2. We believe weekly trade volume is cyclical (weekly) thus add another variable here to adjust $MDV(5)$ on this basis\n",
    "2. We add an auto-regressive term to capture persistent excess volume across days\n",
    "\n",
    "\n",
    "### Calculating $D_w$\n",
    "\n",
    "Our goal here is to determine what (if any) cyclical relationships there are across weekdays.\n",
    "\n",
    "1. Calculate the deviation of daily trading volumes from their (lagged) weekly average across stocks\n",
    "2. Average across stocks for each day\n",
    "\n",
    "We see that there is a hump mid-week with the lowest volume day being Monday. This profile reflects the comments in the text discussing the dip in volume on Friday (one that was not present further back in time)."
   ]
  },
  {
   "cell_type": "code",
   "execution_count": 109,
   "id": "0590f287-edf7-4a47-8188-456818254594",
   "metadata": {},
   "outputs": [],
   "source": [
    "# calculate cyclical week day volumes (use training set)\n",
    "# TODO - could use full data set here?\n",
    "\n",
    "calendar = pd.to_datetime(train_volume.index).isocalendar()\n",
    "week_keys = calendar.year * 100 + calendar.week\n",
    "\n",
    "date_week = train_volume.copy()\n",
    "date_week[\"week_key\"] = week_keys\n",
    "date_week = date_week[\"week_key\"].reset_index()\n",
    "\n",
    "week_volume = train_volume.copy()\n",
    "week_volume[\"week_key\"] = week_keys\n",
    "week_volume = week_volume.groupby(\"week_key\", as_index=False).mean()\n",
    "week_volume = date_week.merge(week_volume, how=\"left\", left_on=\"week_key\", right_on=\"week_key\").set_index(\"date\").drop(\"week_key\", axis=1)\n",
    "\n",
    "pct_volume = train_volume / week_volume\n",
    "weekday_pct_volume = pct_volume.groupby([calendar.day]).mean().mean(axis=1)"
   ]
  },
  {
   "cell_type": "code",
   "execution_count": 110,
   "id": "623e11bd-ff2b-4c63-95dd-fd0508f6d45a",
   "metadata": {},
   "outputs": [
    {
     "data": {
      "image/png": "[encoded data removed]",
      "text/plain": [
       "<Figure size 432x288 with 1 Axes>"
      ]
     },
     "metadata": {
      "needs_background": "light"
     },
     "output_type": "display_data"
    }
   ],
   "source": [
    "plt.bar(weekday_pct_volume.index, weekday_pct_volume.values)\n",
    "plt.ylim([0.9, 1.1])\n",
    "plt.title(\"Daily excess volume vs. week average\") \n",
    "plt.ylabel(\"Excess volume (%)\")\n",
    "plt.xlabel(\"Weekday\")\n",
    "plt.show()"
   ]
  },
  {
   "cell_type": "markdown",
   "id": "a503a029-82e0-44bb-a1d8-c1ade8abac14",
   "metadata": {},
   "source": [
    "## Fit the ARMA model\n",
    "\n",
    "Our objective is to model an auto-regressive term to improve predictive power on $MDV(5)$. We postulate that there is an AR(1) relationship between the error from weekday adjusted median daily volume ($MDV_tw$). We model the percentage difference day on day in order to handle different liquidities / volume across the sample\n",
    "\n",
    "$e_t = \\alpha + \\beta . e_{t-1}$\n",
    "\n",
    "where\n",
    "\n",
    "$e_t = \\frac{\\hat{V}_t - MDV_{tw}}{MDV_{tw}}$\n",
    "\n",
    "\n",
    "We aim to predict:\n",
    "\n",
    "$\\hat{V_t} = MDV_{tw} . (1 + \\hat{e_t}) = MDV_{tw . (1 + \\alpha + \\beta . e_{t-1})$\n",
    "\n",
    "$MDV_{tw} = MDV_t(5) . D_w$\n",
    "\n",
    "Note: $MDV_t(5)$ is the rolling median over the 5 days **preceding** $t$"
   ]
  },
  {
   "cell_type": "markdown",
   "id": "42537371-b50e-4edc-966a-79e5d35408c2",
   "metadata": {},
   "source": [
    "First we look at the distribution of residuals on lagged errors ($e_t - e_{t-1}\n",
    "$)\n",
    "\n",
    "1. We notice that error residuals are resonably symmetric (with median of ~-1%)\n",
    "2. There are several outliers with huge residuals (6000-8000%)\n",
    "3. Winsorizing outliers at 1% and 99% provides a max absolute residual of ~200%. We are well aware of outlier volume days and this seems like a reasonable level to model normal behaviour\n",
    "\n",
    "Note: This does not remove the need to address outliers explicitly"
   ]
  },
  {
   "cell_type": "code",
   "execution_count": 111,
   "id": "841afb5d-b766-4ed6-8f4c-f0a4e06400e8",
   "metadata": {},
   "outputs": [],
   "source": [
    "def adj_mdv(vol: pd.DataFrame, wd_pct_volume: pd.Series) -> pd.DataFrame():\n",
    "    \"\"\"\n",
    "    Prepare adjusted MDV\n",
    "    \"\"\"\n",
    "    mdv_5 = MDV(vol, 5)\n",
    "    weekdays = pd.DataFrame(index=mdv_5.index, data={\"weekday\":mdv_5.index.isocalendar().day})\n",
    "    mdv_5 = mdv_5.join(weekdays.astype(int))\n",
    "    mdv_5[\"weekday\"] = mdv_5[\"weekday\"].replace(wd_pct_volume)\n",
    "    mdv_5 = mdv_5.rename(columns={\"weekday\": \"D_w\"})\n",
    "    adj_mdv_5 = mdv_5.multiply(mdv_5[\"D_w\"], axis=0).drop(\"D_w\", axis=1)\n",
    "    return adj_mdv_5"
   ]
  },
  {
   "cell_type": "code",
   "execution_count": 152,
   "id": "6490b614-f471-4619-9433-1503a2424497",
   "metadata": {},
   "outputs": [],
   "source": [
    "# calculate errors\n",
    "train_adj_mdv_5 = adj_mdv(train_volume, weekday_pct_volume)\n",
    "train_errs = (train_volume - train_adj_mdv_5) / train_adj_mdv_5\n",
    "#train_errs = train_volume - train_adj_mdv_5\n",
    "train_errs_lag = train_errs.shift()\n",
    "\n",
    "train_errs = train_errs.to_numpy().flatten()\n",
    "train_errs_lag = train_errs_lag.to_numpy().flatten()\n",
    "train_mask = ~(np.isnan(train_errs) | np.isnan(train_errs_lag))\n",
    "train_errs = train_errs[train_mask]\n",
    "train_errs_lag = train_errs_lag[train_mask]\n",
    "train_err_df = pd.DataFrame(data={\"e_t\": train_errs, \"e_t-1\": train_errs_lag})"
   ]
  },
  {
   "cell_type": "code",
   "execution_count": 153,
   "id": "04fd3d46-12be-4c24-8a0b-e95e30fb1e20",
   "metadata": {},
   "outputs": [
    {
     "name": "stdout",
     "output_type": "stream",
     "text": [
      "e_t descriptive statistics\n"
     ]
    },
    {
     "data": {
      "text/plain": [
       "count    1246560.00\n",
       "mean          -0.00\n",
       "std            9.91\n",
       "min        -6718.61\n",
       "25%           -0.28\n",
       "50%           -0.01\n",
       "75%            0.27\n",
       "max         8601.53\n",
       "dtype: float64"
      ]
     },
     "metadata": {},
     "output_type": "display_data"
    },
    {
     "data": {
      "text/html": [
       "<div>\n",
       "<style scoped>\n",
       "    .dataframe tbody tr th:only-of-type {\n",
       "        vertical-align: middle;\n",
       "    }\n",
       "\n",
       "    .dataframe tbody tr th {\n",
       "        vertical-align: top;\n",
       "    }\n",
       "\n",
       "    .dataframe thead th {\n",
       "        text-align: right;\n",
       "    }\n",
       "</style>\n",
       "<table border=\"1\" class=\"dataframe\">\n",
       "  <thead>\n",
       "    <tr style=\"text-align: right;\">\n",
       "      <th></th>\n",
       "      <th>percentile</th>\n",
       "      <th>value</th>\n",
       "    </tr>\n",
       "  </thead>\n",
       "  <tbody>\n",
       "    <tr>\n",
       "      <th>0</th>\n",
       "      <td>0.00</td>\n",
       "      <td>-6718.610863</td>\n",
       "    </tr>\n",
       "    <tr>\n",
       "      <th>1</th>\n",
       "      <td>0.01</td>\n",
       "      <td>-1.860427</td>\n",
       "    </tr>\n",
       "    <tr>\n",
       "      <th>2</th>\n",
       "      <td>0.02</td>\n",
       "      <td>-1.359629</td>\n",
       "    </tr>\n",
       "    <tr>\n",
       "      <th>3</th>\n",
       "      <td>0.03</td>\n",
       "      <td>-1.131284</td>\n",
       "    </tr>\n",
       "    <tr>\n",
       "      <th>4</th>\n",
       "      <td>0.04</td>\n",
       "      <td>-0.986925</td>\n",
       "    </tr>\n",
       "    <tr>\n",
       "      <th>5</th>\n",
       "      <td>0.05</td>\n",
       "      <td>-0.884774</td>\n",
       "    </tr>\n",
       "    <tr>\n",
       "      <th>6</th>\n",
       "      <td>0.95</td>\n",
       "      <td>0.891400</td>\n",
       "    </tr>\n",
       "    <tr>\n",
       "      <th>7</th>\n",
       "      <td>0.96</td>\n",
       "      <td>0.995322</td>\n",
       "    </tr>\n",
       "    <tr>\n",
       "      <th>8</th>\n",
       "      <td>0.97</td>\n",
       "      <td>1.143547</td>\n",
       "    </tr>\n",
       "    <tr>\n",
       "      <th>9</th>\n",
       "      <td>0.98</td>\n",
       "      <td>1.381291</td>\n",
       "    </tr>\n",
       "    <tr>\n",
       "      <th>10</th>\n",
       "      <td>0.99</td>\n",
       "      <td>1.908743</td>\n",
       "    </tr>\n",
       "    <tr>\n",
       "      <th>11</th>\n",
       "      <td>1.00</td>\n",
       "      <td>8601.528847</td>\n",
       "    </tr>\n",
       "  </tbody>\n",
       "</table>\n",
       "</div>"
      ],
      "text/plain": [
       "    percentile        value\n",
       "0         0.00 -6718.610863\n",
       "1         0.01    -1.860427\n",
       "2         0.02    -1.359629\n",
       "3         0.03    -1.131284\n",
       "4         0.04    -0.986925\n",
       "5         0.05    -0.884774\n",
       "6         0.95     0.891400\n",
       "7         0.96     0.995322\n",
       "8         0.97     1.143547\n",
       "9         0.98     1.381291\n",
       "10        0.99     1.908743\n",
       "11        1.00  8601.528847"
      ]
     },
     "metadata": {},
     "output_type": "display_data"
    },
    {
     "data": {
      "image/png": "[encoded data removed]",
      "text/plain": [
       "<Figure size 432x288 with 1 Axes>"
      ]
     },
     "metadata": {
      "needs_background": "light"
     },
     "output_type": "display_data"
    }
   ],
   "source": [
    "# analyze the error diffs\n",
    "train_err_AR = train_err_df[\"e_t\"] - train_err_df[\"e_t-1\"]\n",
    "\n",
    "print(\"e_t descriptive statistics\")\n",
    "display(train_err_AR.describe().round(2))\n",
    "\n",
    "# plt.hist(train_err_AR, bins=50, log=True)\n",
    "# plt.title(\"Histogram of error AR residuals\")\n",
    "# plt.show()\n",
    "\n",
    "percentile = list(np.arange(0.0, 0.051, 0.01)) + list(np.arange(0.95, 1.001, 0.01))\n",
    "percentile_df = pd.DataFrame(data={\"percentile\": percentile, \"value\": np.quantile(train_err_AR, percentile)})\n",
    "\n",
    "display(percentile_df)\n",
    "\n",
    "train_err_AR_win = winsorize(train_err_AR, 0.01)\n",
    "\n",
    "plt.hist(train_err_AR_win, bins=50, log=False)\n",
    "plt.title(\"Histogram of error AR residuals (winsorized at 0.5%)\")\n",
    "plt.show()\n",
    "\n",
    "# plt.scatter(np.log(train_errs), np.log(train_errs_lag))\n",
    "# plt.title(\"Lagged error percentage scatter\")\n",
    "# plt.xlabel(\"e_t\")\n",
    "# plt.ylabel(\"e_t-1\")\n",
    "# plt.show()\n",
    "\n",
    "train_err_df_censored = train_err_df.copy()\n",
    "train_err_df_censored[\"diff\"] = train_err_df[\"e_t\"] - train_err_df[\"e_t-1\"]\n",
    "censored_mask = (train_err_df_censored < train_err_df_censored[\"diff\"].quantile(0.995)) & (train_err_df_censored > train_err_df_censored[\"diff\"].quantile(0.005))\n",
    "train_err_df_censored = train_err_df_censored[censored_mask]"
   ]
  },
  {
   "cell_type": "code",
   "execution_count": 154,
   "id": "87a1a234-241f-4a7d-ba5d-4d485cac7707",
   "metadata": {},
   "outputs": [
    {
     "data": {
      "image/png": "[encoded data removed]",
      "text/plain": [
       "<Figure size 432x288 with 1 Axes>"
      ]
     },
     "metadata": {
      "needs_background": "light"
     },
     "output_type": "display_data"
    }
   ],
   "source": [
    "plt.scatter(train_err_df_censored[\"e_t\"], train_err_df_censored[\"e_t-1\"])\n",
    "plt.title(\"Prediction scatter\")\n",
    "plt.xlabel(\"e_t\")\n",
    "plt.ylabel(\"e_t-1\")\n",
    "plt.show()"
   ]
  },
  {
   "cell_type": "code",
   "execution_count": 155,
   "id": "44d0f560-2a25-43bc-9e24-ec172b577d71",
   "metadata": {},
   "outputs": [
    {
     "data": {
      "text/markdown": [
       "We have high in sample coefficient of determiniation $R^2$ = 0.10755115054650133, alpha=0.0510106319699831, beta=0.3252917883690791"
      ],
      "text/plain": [
       "<IPython.core.display.Markdown object>"
      ]
     },
     "metadata": {},
     "output_type": "display_data"
    },
    {
     "data": {
      "image/png": "[encoded data removed]",
      "text/plain": [
       "<Figure size 432x288 with 1 Axes>"
      ]
     },
     "metadata": {
      "needs_background": "light"
     },
     "output_type": "display_data"
    }
   ],
   "source": [
    "# fit the model\n",
    "\n",
    "# train_adj_mdv_5_vals = train_adj_mdv_5.to_numpy().flatten()\n",
    "# train_volume_vals = train_volume.to_numpy().flatten()\n",
    "\n",
    "# nan_mask = ~(np.isnan(train_adj_mdv_5_vals) | np.isnan(train_volume_vals))\n",
    "\n",
    "# log_train_adj_mdv_5_vals = np.log(train_adj_mdv_5_vals[nan_mask].reshape(-1, 1))\n",
    "# log_train_volume_vals = np.log(train_volume_vals[nan_mask].reshape(-1, 1))\n",
    "\n",
    "# model = LinearRegression()\n",
    "# model.fit(log_train_adj_mdv_5_vals, log_train_volume_vals)\n",
    "# train_r_2 = model.score(log_train_adj_mdv_5_vals, log_train_volume_vals)\n",
    "\n",
    "# display(md(f\"We have high in sample coefficient of determiniation $R^2$ = {r_2}\"))\n",
    "\n",
    "\n",
    "\n",
    "# train_err_vals = train_errs.to_numpy().flatten()\n",
    "# train_err_lag_vals = train_errs_lag.to_numpy().flatten()\n",
    "\n",
    "train_err_vals = train_err_df_censored[\"e_t\"].to_numpy().flatten()\n",
    "train_err_lag_vals = train_err_df_censored[\"e_t-1\"].to_numpy().flatten()\n",
    "\n",
    "nan_mask = ~(np.isnan(train_err_vals) | np.isnan(train_err_lag_vals))\n",
    "\n",
    "train_err_vals = train_err_vals[nan_mask].reshape(-1, 1)\n",
    "train_err_lag_vals = train_err_lag_vals[nan_mask].reshape(-1, 1)\n",
    "\n",
    "# train_err_vals = np.log(train_err_vals)\n",
    "# train_err_lag_vals = np.log(train_err_lag_vals)\n",
    "\n",
    "model = LinearRegression()\n",
    "model.fit(train_err_lag_vals, train_err_vals)\n",
    "train_r_2 = model.score(train_err_lag_vals, train_err_vals)\n",
    "\n",
    "alpha = model.intercept_[0]\n",
    "beta = model.coef_[0][0]\n",
    "\n",
    "display(md(f\"We have high in sample coefficient of determiniation $R^2$ = {train_r_2}, alpha={alpha}, beta={beta}\"))\n",
    "\n",
    "\n",
    "plt.scatter(train_errs, train_errs_lag)\n",
    "plt.title(\"Prediction scatter\")\n",
    "plt.ylabel(\"e_t-1\")\n",
    "plt.xlabel(\"e_t\")\n",
    "plt.yscale(\"log\")\n",
    "plt.xscale(\"log\")\n",
    "pred_x = [train_errs.min().min(), train_errs.max().max()]\n",
    "pred_y = [alpha + x * beta for x in pred_x]\n",
    "plt.plot(pred_x, pred_y, '-r', label='y=2x+1')\n",
    "plt.show()\n"
   ]
  },
  {
   "cell_type": "markdown",
   "id": "d1e3f652-61b6-45e8-89ac-3aaeed566bce",
   "metadata": {},
   "source": [
    "## Out of sample "
   ]
  },
  {
   "cell_type": "code",
   "execution_count": 224,
   "id": "e5c318f7-2559-4953-b205-9f0c631b10a9",
   "metadata": {},
   "outputs": [
    {
     "data": {
      "text/html": [
       "<div>\n",
       "<style scoped>\n",
       "    .dataframe tbody tr th:only-of-type {\n",
       "        vertical-align: middle;\n",
       "    }\n",
       "\n",
       "    .dataframe tbody tr th {\n",
       "        vertical-align: top;\n",
       "    }\n",
       "\n",
       "    .dataframe thead th {\n",
       "        text-align: right;\n",
       "    }\n",
       "</style>\n",
       "<table border=\"1\" class=\"dataframe\">\n",
       "  <thead>\n",
       "    <tr style=\"text-align: right;\">\n",
       "      <th></th>\n",
       "      <th>MODEL</th>\n",
       "      <th>R2</th>\n",
       "      <th>MSLE</th>\n",
       "      <th>MAPE</th>\n",
       "    </tr>\n",
       "  </thead>\n",
       "  <tbody>\n",
       "    <tr>\n",
       "      <th>0</th>\n",
       "      <td>ARMA</td>\n",
       "      <td>0.862714</td>\n",
       "      <td>0.139178</td>\n",
       "      <td>0.304618</td>\n",
       "    </tr>\n",
       "    <tr>\n",
       "      <th>1</th>\n",
       "      <td>ADJ MDV(5)</td>\n",
       "      <td>0.829547</td>\n",
       "      <td>0.162758</td>\n",
       "      <td>0.299961</td>\n",
       "    </tr>\n",
       "    <tr>\n",
       "      <th>2</th>\n",
       "      <td>ADV(30)</td>\n",
       "      <td>0.819449</td>\n",
       "      <td>0.183330</td>\n",
       "      <td>0.368766</td>\n",
       "    </tr>\n",
       "  </tbody>\n",
       "</table>\n",
       "</div>"
      ],
      "text/plain": [
       "        MODEL        R2      MSLE      MAPE\n",
       "0        ARMA  0.862714  0.139178  0.304618\n",
       "1  ADJ MDV(5)  0.829547  0.162758  0.299961\n",
       "2     ADV(30)  0.819449  0.183330  0.368766"
      ]
     },
     "metadata": {},
     "output_type": "display_data"
    },
    {
     "data": {
      "text/markdown": [
       "\n",
       "Metrics used:\n",
       "\n",
       "R^2 to quantify fit to our clipped data\n",
       "\n",
       "MSLE (mean squared log error) - applies to targets that scale logarithmically (volumes across universe of stocks). Penalizes under estimates more than over estimates\n",
       "\n",
       "MAPE (median absolute percentage error) - normalized across universe given percentage measure (these are the natural units for interacting with volume)\n"
      ],
      "text/plain": [
       "<IPython.core.display.Markdown object>"
      ]
     },
     "execution_count": 224,
     "metadata": {},
     "output_type": "execute_result"
    }
   ],
   "source": [
    "test_adj_mdv_5 = adj_mdv(test_volume, weekday_pct_volume)\n",
    "test_errs = (test_volume - test_adj_mdv_5) / test_adj_mdv_5\n",
    "test_errs_lag = test_errs.shift()\n",
    "\n",
    "test_adj_mdv_5_vals = test_adj_mdv_5.to_numpy().flatten()\n",
    "test_errs_vals = test_errs.to_numpy().flatten()\n",
    "test_errs_lag_vals = test_errs_lag.to_numpy().flatten()\n",
    "test_volume_vals = test_volume.to_numpy().flatten()\n",
    "\n",
    "nan_mask = ~(np.isnan(test_errs_lag_vals) | np.isnan(test_volume_vals))\n",
    "\n",
    "test_adj_mdv_5_vals = test_adj_mdv_5_vals[nan_mask]\n",
    "test_errs_vals = test_errs_vals[nan_mask]\n",
    "test_errs_lag_vals = test_errs_lag_vals[nan_mask]\n",
    "test_volume_vals = test_volume_vals[nan_mask]\n",
    "\n",
    "test_errs_df = pd.DataFrame(data={\"e_t\":test_errs_vals, \"e_t-1\":test_errs_lag_vals, \"abs_error\": abs(test_errs_vals - test_errs_lag_vals)})\n",
    "test_errs_df_quantile = np.quantile(test_errs_df[\"abs_error\"], 0.95)\n",
    "\n",
    "# filter outliers\n",
    "test_errs_df = test_errs_df[test_errs_df[\"abs_error\"] < test_errs_df_quantile]\n",
    "\n",
    "# plt.scatter(test_errs_df[\"e_t\"], test_errs_df[\"e_t-1\"])\n",
    "# plt.title(\"Prediction scatter\")\n",
    "# plt.xlabel(\"e_t\")\n",
    "# plt.ylabel(\"e_t-1\")\n",
    "\n",
    "# x = np.array([0, max(test_errs_df[\"e_t\"])])\n",
    "# y = (model.coef_*x + model.intercept_)[0]\n",
    "\n",
    "# print(x)\n",
    "# print(y)\n",
    "\n",
    "# plt.plot(x, y, '-r', label='fit')\n",
    "plt.show()\n",
    "\n",
    "\n",
    "# we use relative volume measures for analysis given liquidity range of universe\n",
    "eval_metrics = collections.defaultdict(list)\n",
    "\n",
    "# ARMA MODEL\n",
    "\n",
    "err_pred = model.predict(test_errs_lag_vals.reshape(-1, 1)).flatten()\n",
    "\n",
    "y_pred = test_adj_mdv_5_vals * (1 + err_pred)\n",
    "y_true = test_volume_vals\n",
    "\n",
    "pct_err = (y_pred - y_true) / y_true\n",
    "quantile = np.quantile(pct_err, 1.0)\n",
    "\n",
    "preds = pd.DataFrame(data={\"y_true\": y_true, \"y_pred\": y_pred, \"error\": y_pred - y_true})\n",
    "threshold_quantile = np.quantile(preds[\"error\"], 0.95)\n",
    "\n",
    "# filter outliers\n",
    "preds = preds[preds[\"error\"] < threshold_quantile]\n",
    "\n",
    "y_pred = preds[\"y_pred\"]\n",
    "y_true = preds[\"y_true\"]\n",
    "\n",
    "\n",
    "# Regression metrics\n",
    "MSLE=metrics.mean_squared_log_error(y_true, y_pred)\n",
    "MAPE=metrics.mean_absolute_percentage_error(y_true, y_pred)\n",
    "R2=metrics.r2_score(y_true, y_pred)\n",
    "\n",
    "eval_metrics[\"MODEL\"].append(\"ARMA\")\n",
    "eval_metrics[\"R2\"].append(R2)\n",
    "eval_metrics[\"MSLE\"].append(MSLE)\n",
    "eval_metrics[\"MAPE\"].append(MAPE)\n",
    "\n",
    "\n",
    "# ADJ MDV(5) MODEL\n",
    "\n",
    "y_pred = test_adj_mdv_5_vals\n",
    "y_true = test_volume_vals\n",
    "\n",
    "pct_err = (y_pred - y_true) / y_true\n",
    "quantile = np.quantile(pct_err, 1.0)\n",
    "\n",
    "preds = pd.DataFrame(data={\"y_true\": y_true, \"y_pred\": y_pred, \"error\": y_pred - y_true})\n",
    "threshold_quantile = np.quantile(preds[\"error\"], 0.95)\n",
    "\n",
    "# filter outliers\n",
    "preds = preds[preds[\"error\"] < threshold_quantile]\n",
    "\n",
    "y_pred = preds[\"y_pred\"]\n",
    "y_true = preds[\"y_true\"]\n",
    "\n",
    "\n",
    "# Regression metrics\n",
    "MSLE=metrics.mean_squared_log_error(y_true, y_pred)\n",
    "MAPE=metrics.mean_absolute_percentage_error(y_true, y_pred)\n",
    "R2=metrics.r2_score(y_true, y_pred)\n",
    "\n",
    "eval_metrics[\"MODEL\"].append(\"ADJ MDV(5)\")\n",
    "eval_metrics[\"R2\"].append(R2)\n",
    "eval_metrics[\"MSLE\"].append(MSLE)\n",
    "eval_metrics[\"MAPE\"].append(MAPE)\n",
    "\n",
    "# ADV(30) MODEL\n",
    "\n",
    "test_adv_30 = ADV(test_volume, 30)\n",
    "test_adv_30_vals = test_adv_30.to_numpy().flatten()\n",
    "test_volume_vals = test_volume.to_numpy().flatten()\n",
    "\n",
    "nan_mask = ~(np.isnan(test_adv_30_vals) | np.isnan(test_volume_vals))\n",
    "\n",
    "test_adv_30_vals = test_adv_30_vals[nan_mask]\n",
    "test_volume_vals = test_volume_vals[nan_mask]\n",
    "\n",
    "y_pred = test_adv_30_vals\n",
    "y_true = test_volume_vals\n",
    "\n",
    "pct_err = (y_pred - y_true) / y_true\n",
    "quantile = np.quantile(pct_err, 1.0)\n",
    "\n",
    "preds = pd.DataFrame(data={\"y_true\": y_true, \"y_pred\": y_pred, \"error\": y_pred - y_true})\n",
    "threshold_quantile = np.quantile(preds[\"error\"], 0.95)\n",
    "\n",
    "# filter outliers\n",
    "preds = preds[preds[\"error\"] < threshold_quantile]\n",
    "\n",
    "y_pred = preds[\"y_pred\"]\n",
    "y_true = preds[\"y_true\"]\n",
    "\n",
    "\n",
    "# Regression metrics\n",
    "MSLE=metrics.mean_squared_log_error(y_true, y_pred)\n",
    "MAPE=metrics.mean_absolute_percentage_error(y_true, y_pred)\n",
    "R2=metrics.r2_score(y_true, y_pred)\n",
    "\n",
    "eval_metrics[\"MODEL\"].append(\"ADV(30)\")\n",
    "eval_metrics[\"R2\"].append(R2)\n",
    "eval_metrics[\"MSLE\"].append(MSLE)\n",
    "eval_metrics[\"MAPE\"].append(MAPE)\n",
    "\n",
    "display(pd.DataFrame(data=eval_metrics))\n",
    "\n",
    "\n",
    "# print('r2: ', round(R2,4))\n",
    "# print('MSLE: ', round(MSLE,4))\n",
    "# print('MAPE: ', round(MAPE,4))\n",
    "\n",
    "md(\"\"\"\n",
    "Metrics used:\n",
    "\n",
    "R^2 to quantify fit to our clipped data\n",
    "\n",
    "MSLE (mean squared log error) - applies to targets that scale logarithmically (volumes across universe of stocks). Penalizes under estimates more than over estimates\n",
    "\n",
    "MAPE (median absolute percentage error) - normalized across universe given percentage measure (these are the natural units for interacting with volume)\n",
    "\"\"\")"
   ]
  },
  {
   "cell_type": "markdown",
   "id": "a67a5c4e-219f-4d60-827b-37d71524fdea",
   "metadata": {},
   "source": [
    "# Conclusion\n",
    "\n",
    "Three models are considered ADV30 ADJUSTEDMDV5 and the ARMA model\n",
    "\n",
    "We can see from the metrics above that, as expected, each level complication provides a better level of fit (the only exception being MAPE outperformance for MDV(5)\n",
    "\n",
    "The obvious omission in this study is the handling of outliers, we remove the top 5% of volumes as they completly skew test results. This issue combined with the inherent difference in scale of volumes across our universe are why we have chosen relative performance metrics...\n",
    "\n",
    "In reality we need to handle high volume days (of more concern whentrading on these days) as such follow up tasks would be investigation of how to handle these"
   ]
  }
 ],
 "metadata": {
  "kernelspec": {
   "display_name": "Python 3 (ipykernel)",
   "language": "python",
   "name": "python3"
  },
  "language_info": {
   "codemirror_mode": {
    "name": "ipython",
    "version": 3
   },
   "file_extension": ".py",
   "mimetype": "text/x-python",
   "name": "python",
   "nbconvert_exporter": "python",
   "pygments_lexer": "ipython3",
   "version": "3.8.13"
  }
 },
 "nbformat": 4,
 "nbformat_minor": 5
}
